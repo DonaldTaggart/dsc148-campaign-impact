{
 "cells": [
  {
   "cell_type": "code",
   "execution_count": 17,
   "id": "4ac82105-fe67-4570-b167-f8edd5023437",
   "metadata": {},
   "outputs": [],
   "source": [
    "import numpy as np\n",
    "import pandas as pd\n",
    "from sklearn.tree import DecisionTreeClassifier\n",
    "from sklearn.ensemble import RandomForestClassifier\n",
    "from sklearn.compose import ColumnTransformer\n",
    "from sklearn.preprocessing import OneHotEncoder\n",
    "from sklearn.preprocessing import StandardScaler\n",
    "from sklearn.pipeline import Pipeline\n",
    "from sklearn.metrics import recall_score\n",
    "from sklearn.linear_model import LogisticRegression\n",
    "from sklearn.neighbors import KNeighborsClassifier\n",
    "from xgboost import XGBClassifier\n",
    "from sklearn.model_selection import GridSearchCV\n",
    "from sklearn.model_selection import train_test_split"
   ]
  },
  {
   "cell_type": "code",
   "execution_count": 18,
   "id": "c5490165-068f-44da-826b-7030651c90af",
   "metadata": {},
   "outputs": [
    {
     "data": {
      "text/html": [
       "<div>\n",
       "<style scoped>\n",
       "    .dataframe tbody tr th:only-of-type {\n",
       "        vertical-align: middle;\n",
       "    }\n",
       "\n",
       "    .dataframe tbody tr th {\n",
       "        vertical-align: top;\n",
       "    }\n",
       "\n",
       "    .dataframe thead th {\n",
       "        text-align: right;\n",
       "    }\n",
       "</style>\n",
       "<table border=\"1\" class=\"dataframe\">\n",
       "  <thead>\n",
       "    <tr style=\"text-align: right;\">\n",
       "      <th></th>\n",
       "      <th>age</th>\n",
       "      <th>job</th>\n",
       "      <th>marital</th>\n",
       "      <th>education</th>\n",
       "      <th>default</th>\n",
       "      <th>balance</th>\n",
       "      <th>housing</th>\n",
       "      <th>loan</th>\n",
       "      <th>contact</th>\n",
       "      <th>day</th>\n",
       "      <th>month</th>\n",
       "      <th>duration</th>\n",
       "      <th>campaign</th>\n",
       "      <th>pdays</th>\n",
       "      <th>previous</th>\n",
       "      <th>poutcome</th>\n",
       "      <th>y</th>\n",
       "    </tr>\n",
       "  </thead>\n",
       "  <tbody>\n",
       "    <tr>\n",
       "      <th>21599</th>\n",
       "      <td>33</td>\n",
       "      <td>management</td>\n",
       "      <td>married</td>\n",
       "      <td>tertiary</td>\n",
       "      <td>no</td>\n",
       "      <td>801</td>\n",
       "      <td>no</td>\n",
       "      <td>no</td>\n",
       "      <td>cellular</td>\n",
       "      <td>19</td>\n",
       "      <td>aug</td>\n",
       "      <td>133</td>\n",
       "      <td>4</td>\n",
       "      <td>-1</td>\n",
       "      <td>0</td>\n",
       "      <td>unknown</td>\n",
       "      <td>no</td>\n",
       "    </tr>\n",
       "    <tr>\n",
       "      <th>42724</th>\n",
       "      <td>38</td>\n",
       "      <td>unemployed</td>\n",
       "      <td>married</td>\n",
       "      <td>primary</td>\n",
       "      <td>no</td>\n",
       "      <td>7005</td>\n",
       "      <td>yes</td>\n",
       "      <td>no</td>\n",
       "      <td>cellular</td>\n",
       "      <td>25</td>\n",
       "      <td>jan</td>\n",
       "      <td>696</td>\n",
       "      <td>1</td>\n",
       "      <td>202</td>\n",
       "      <td>2</td>\n",
       "      <td>success</td>\n",
       "      <td>yes</td>\n",
       "    </tr>\n",
       "    <tr>\n",
       "      <th>17991</th>\n",
       "      <td>35</td>\n",
       "      <td>services</td>\n",
       "      <td>married</td>\n",
       "      <td>secondary</td>\n",
       "      <td>no</td>\n",
       "      <td>5</td>\n",
       "      <td>no</td>\n",
       "      <td>no</td>\n",
       "      <td>cellular</td>\n",
       "      <td>30</td>\n",
       "      <td>jul</td>\n",
       "      <td>153</td>\n",
       "      <td>2</td>\n",
       "      <td>-1</td>\n",
       "      <td>0</td>\n",
       "      <td>unknown</td>\n",
       "      <td>no</td>\n",
       "    </tr>\n",
       "    <tr>\n",
       "      <th>30876</th>\n",
       "      <td>49</td>\n",
       "      <td>blue-collar</td>\n",
       "      <td>married</td>\n",
       "      <td>primary</td>\n",
       "      <td>no</td>\n",
       "      <td>3103</td>\n",
       "      <td>no</td>\n",
       "      <td>no</td>\n",
       "      <td>cellular</td>\n",
       "      <td>9</td>\n",
       "      <td>feb</td>\n",
       "      <td>26</td>\n",
       "      <td>5</td>\n",
       "      <td>-1</td>\n",
       "      <td>0</td>\n",
       "      <td>unknown</td>\n",
       "      <td>no</td>\n",
       "    </tr>\n",
       "    <tr>\n",
       "      <th>17535</th>\n",
       "      <td>33</td>\n",
       "      <td>technician</td>\n",
       "      <td>married</td>\n",
       "      <td>tertiary</td>\n",
       "      <td>no</td>\n",
       "      <td>-482</td>\n",
       "      <td>yes</td>\n",
       "      <td>no</td>\n",
       "      <td>cellular</td>\n",
       "      <td>29</td>\n",
       "      <td>jul</td>\n",
       "      <td>90</td>\n",
       "      <td>3</td>\n",
       "      <td>-1</td>\n",
       "      <td>0</td>\n",
       "      <td>unknown</td>\n",
       "      <td>no</td>\n",
       "    </tr>\n",
       "    <tr>\n",
       "      <th>...</th>\n",
       "      <td>...</td>\n",
       "      <td>...</td>\n",
       "      <td>...</td>\n",
       "      <td>...</td>\n",
       "      <td>...</td>\n",
       "      <td>...</td>\n",
       "      <td>...</td>\n",
       "      <td>...</td>\n",
       "      <td>...</td>\n",
       "      <td>...</td>\n",
       "      <td>...</td>\n",
       "      <td>...</td>\n",
       "      <td>...</td>\n",
       "      <td>...</td>\n",
       "      <td>...</td>\n",
       "      <td>...</td>\n",
       "      <td>...</td>\n",
       "    </tr>\n",
       "    <tr>\n",
       "      <th>16810</th>\n",
       "      <td>26</td>\n",
       "      <td>services</td>\n",
       "      <td>married</td>\n",
       "      <td>secondary</td>\n",
       "      <td>no</td>\n",
       "      <td>199</td>\n",
       "      <td>no</td>\n",
       "      <td>no</td>\n",
       "      <td>cellular</td>\n",
       "      <td>24</td>\n",
       "      <td>jul</td>\n",
       "      <td>139</td>\n",
       "      <td>6</td>\n",
       "      <td>-1</td>\n",
       "      <td>0</td>\n",
       "      <td>unknown</td>\n",
       "      <td>no</td>\n",
       "    </tr>\n",
       "    <tr>\n",
       "      <th>16630</th>\n",
       "      <td>30</td>\n",
       "      <td>technician</td>\n",
       "      <td>married</td>\n",
       "      <td>secondary</td>\n",
       "      <td>no</td>\n",
       "      <td>13</td>\n",
       "      <td>yes</td>\n",
       "      <td>yes</td>\n",
       "      <td>cellular</td>\n",
       "      <td>24</td>\n",
       "      <td>jul</td>\n",
       "      <td>205</td>\n",
       "      <td>1</td>\n",
       "      <td>-1</td>\n",
       "      <td>0</td>\n",
       "      <td>unknown</td>\n",
       "      <td>no</td>\n",
       "    </tr>\n",
       "    <tr>\n",
       "      <th>18846</th>\n",
       "      <td>42</td>\n",
       "      <td>technician</td>\n",
       "      <td>married</td>\n",
       "      <td>secondary</td>\n",
       "      <td>no</td>\n",
       "      <td>0</td>\n",
       "      <td>no</td>\n",
       "      <td>no</td>\n",
       "      <td>cellular</td>\n",
       "      <td>4</td>\n",
       "      <td>aug</td>\n",
       "      <td>240</td>\n",
       "      <td>1</td>\n",
       "      <td>-1</td>\n",
       "      <td>0</td>\n",
       "      <td>unknown</td>\n",
       "      <td>no</td>\n",
       "    </tr>\n",
       "    <tr>\n",
       "      <th>25955</th>\n",
       "      <td>55</td>\n",
       "      <td>unemployed</td>\n",
       "      <td>married</td>\n",
       "      <td>secondary</td>\n",
       "      <td>no</td>\n",
       "      <td>4733</td>\n",
       "      <td>yes</td>\n",
       "      <td>no</td>\n",
       "      <td>cellular</td>\n",
       "      <td>19</td>\n",
       "      <td>nov</td>\n",
       "      <td>70</td>\n",
       "      <td>1</td>\n",
       "      <td>174</td>\n",
       "      <td>2</td>\n",
       "      <td>other</td>\n",
       "      <td>no</td>\n",
       "    </tr>\n",
       "    <tr>\n",
       "      <th>18878</th>\n",
       "      <td>49</td>\n",
       "      <td>services</td>\n",
       "      <td>married</td>\n",
       "      <td>secondary</td>\n",
       "      <td>no</td>\n",
       "      <td>3554</td>\n",
       "      <td>no</td>\n",
       "      <td>no</td>\n",
       "      <td>cellular</td>\n",
       "      <td>4</td>\n",
       "      <td>aug</td>\n",
       "      <td>39</td>\n",
       "      <td>1</td>\n",
       "      <td>-1</td>\n",
       "      <td>0</td>\n",
       "      <td>unknown</td>\n",
       "      <td>no</td>\n",
       "    </tr>\n",
       "  </tbody>\n",
       "</table>\n",
       "<p>36168 rows × 17 columns</p>\n",
       "</div>"
      ],
      "text/plain": [
       "       age          job  marital  education default  balance housing loan  \\\n",
       "21599   33   management  married   tertiary      no      801      no   no   \n",
       "42724   38   unemployed  married    primary      no     7005     yes   no   \n",
       "17991   35     services  married  secondary      no        5      no   no   \n",
       "30876   49  blue-collar  married    primary      no     3103      no   no   \n",
       "17535   33   technician  married   tertiary      no     -482     yes   no   \n",
       "...    ...          ...      ...        ...     ...      ...     ...  ...   \n",
       "16810   26     services  married  secondary      no      199      no   no   \n",
       "16630   30   technician  married  secondary      no       13     yes  yes   \n",
       "18846   42   technician  married  secondary      no        0      no   no   \n",
       "25955   55   unemployed  married  secondary      no     4733     yes   no   \n",
       "18878   49     services  married  secondary      no     3554      no   no   \n",
       "\n",
       "        contact  day month  duration  campaign  pdays  previous poutcome    y  \n",
       "21599  cellular   19   aug       133         4     -1         0  unknown   no  \n",
       "42724  cellular   25   jan       696         1    202         2  success  yes  \n",
       "17991  cellular   30   jul       153         2     -1         0  unknown   no  \n",
       "30876  cellular    9   feb        26         5     -1         0  unknown   no  \n",
       "17535  cellular   29   jul        90         3     -1         0  unknown   no  \n",
       "...         ...  ...   ...       ...       ...    ...       ...      ...  ...  \n",
       "16810  cellular   24   jul       139         6     -1         0  unknown   no  \n",
       "16630  cellular   24   jul       205         1     -1         0  unknown   no  \n",
       "18846  cellular    4   aug       240         1     -1         0  unknown   no  \n",
       "25955  cellular   19   nov        70         1    174         2    other   no  \n",
       "18878  cellular    4   aug        39         1     -1         0  unknown   no  \n",
       "\n",
       "[36168 rows x 17 columns]"
      ]
     },
     "execution_count": 18,
     "metadata": {},
     "output_type": "execute_result"
    }
   ],
   "source": [
    "full_df = pd.read_csv(\"data/bank-full.csv\") #test_df = pd.read_csv(\"data/bank.csv\")\n",
    "train_df, test_df = train_test_split(full_df, test_size=0.2)\n",
    "train_df"
   ]
  },
  {
   "cell_type": "code",
   "execution_count": 19,
   "id": "1dd7b999-37e0-462b-9a71-ccaddc8bbc53",
   "metadata": {},
   "outputs": [],
   "source": [
    "X_train = train_df.drop(columns=[\"y\"])\n",
    "y_train = train_df[\"y\"]\n",
    "\n",
    "X_test = test_df.drop(columns=[\"y\"])\n",
    "y_test = test_df[\"y\"]"
   ]
  },
  {
   "cell_type": "code",
   "execution_count": null,
   "id": "5d3c6c28-8833-4c55-9ccb-7243eaca3ec4",
   "metadata": {},
   "outputs": [],
   "source": []
  },
  {
   "cell_type": "code",
   "execution_count": 20,
   "id": "9cd04bca-6ad7-49f5-9263-ba855534a4cb",
   "metadata": {},
   "outputs": [],
   "source": [
    "def to_binary(val):\n",
    "    if val == \"yes\":\n",
    "        return 1\n",
    "    return 0"
   ]
  },
  {
   "cell_type": "code",
   "execution_count": 21,
   "id": "6710b11d-5396-47f6-baf9-a95c2e332f5f",
   "metadata": {},
   "outputs": [],
   "source": [
    "# Baseline Models\n",
    "# logrc\n",
    "# knn\n",
    "# dtc\n",
    "# rfc\n",
    "# xgbc"
   ]
  },
  {
   "cell_type": "code",
   "execution_count": 22,
   "id": "bb396d39-2916-4a0d-91d0-726b15a66cae",
   "metadata": {},
   "outputs": [
    {
     "data": {
      "text/plain": [
       "[0.36658061487913635, 0.33949416342412453]"
      ]
     },
     "execution_count": 22,
     "metadata": {},
     "output_type": "execute_result"
    }
   ],
   "source": [
    "pp_obj = ColumnTransformer(\n",
    "    transformers=[\n",
    "        (\"cat_cols\", OneHotEncoder(), [\"job\", \"marital\", \"education\", \"default\", \"housing\", \"loan\", \"contact\", \"day\", \"month\", \"poutcome\"]),\n",
    "        (\"quant_cols\", StandardScaler(), [\"age\", \"balance\", \"duration\", \"campaign\", \"pdays\", \"previous\"])\n",
    "    ],\n",
    "    remainder = \"passthrough\"\n",
    ")\n",
    "\n",
    "pl_obj = Pipeline([\n",
    "    (\"preprocessor\", pp_obj),\n",
    "    (\"classifier\", LogisticRegression())\n",
    "])\n",
    "\n",
    "y_train_binary = y_train.apply(to_binary)\n",
    "pl_obj.fit(X_train, y_train_binary)\n",
    "\n",
    "train_recall_1 = recall_score(y_train_binary, pl_obj.predict(X_train))\n",
    "y_test_binary = y_test.apply(to_binary)\n",
    "test_recall_1 = recall_score(y_test_binary, pl_obj.predict(X_test))\n",
    "[train_recall_1, test_recall_1]"
   ]
  },
  {
   "cell_type": "code",
   "execution_count": 23,
   "id": "f964aa45-f1b8-4351-8ef3-648e40e7c26f",
   "metadata": {},
   "outputs": [
    {
     "data": {
      "text/plain": [
       "[0.49002581553625907, 0.3433852140077821]"
      ]
     },
     "execution_count": 23,
     "metadata": {},
     "output_type": "execute_result"
    }
   ],
   "source": [
    "pp_obj = ColumnTransformer(\n",
    "    transformers=[\n",
    "        (\"cat_cols\", OneHotEncoder(), [\"job\", \"marital\", \"education\", \"default\", \"housing\", \"loan\", \"contact\", \"day\", \"month\", \"poutcome\"]),\n",
    "        (\"quant_cols\", StandardScaler(), [\"age\", \"balance\", \"duration\", \"campaign\", \"pdays\", \"previous\"])\n",
    "    ],\n",
    "    remainder = \"passthrough\"\n",
    ")\n",
    "\n",
    "pl_obj = Pipeline([\n",
    "    (\"preprocessor\", pp_obj),\n",
    "    (\"classifier\", KNeighborsClassifier())\n",
    "])\n",
    "\n",
    "y_train_binary = y_train.apply(to_binary)\n",
    "pl_obj.fit(X_train, y_train_binary)\n",
    "\n",
    "train_recall_2 = recall_score(y_train_binary, pl_obj.predict(X_train))\n",
    "y_test_binary = y_test.apply(to_binary)\n",
    "test_recall_2 = recall_score(y_test_binary, pl_obj.predict(X_test))\n",
    "[train_recall_2, test_recall_2]"
   ]
  },
  {
   "cell_type": "code",
   "execution_count": 24,
   "id": "410d6b55-871f-40db-b60f-82344c363fa4",
   "metadata": {},
   "outputs": [
    {
     "data": {
      "text/plain": [
       "[1.0, 0.4805447470817121]"
      ]
     },
     "execution_count": 24,
     "metadata": {},
     "output_type": "execute_result"
    }
   ],
   "source": [
    "pp_obj = ColumnTransformer(\n",
    "    transformers=[\n",
    "        (\"cat_cols\", OneHotEncoder(), [\"job\", \"marital\", \"education\", \"default\", \"housing\", \"loan\", \"contact\", \"day\", \"month\", \"poutcome\"]),\n",
    "        (\"quant_cols\", StandardScaler(), [\"age\", \"balance\", \"duration\", \"campaign\", \"pdays\", \"previous\"])\n",
    "    ],\n",
    "    remainder = \"passthrough\"\n",
    ")\n",
    "\n",
    "pl_obj = Pipeline([\n",
    "    (\"preprocessor\", pp_obj),\n",
    "    (\"classifier\", DecisionTreeClassifier())\n",
    "])\n",
    "\n",
    "y_train_binary = y_train.apply(to_binary)\n",
    "pl_obj.fit(X_train, y_train_binary)\n",
    "\n",
    "train_recall_3 = recall_score(y_train_binary, pl_obj.predict(X_train))\n",
    "y_test_binary = y_test.apply(to_binary)\n",
    "test_recall_3 = recall_score(y_test_binary, pl_obj.predict(X_test))\n",
    "[train_recall_3, test_recall_3]"
   ]
  },
  {
   "cell_type": "code",
   "execution_count": 25,
   "id": "b69ddd33-74f2-47bf-b416-52abad9d5c8e",
   "metadata": {},
   "outputs": [
    {
     "data": {
      "text/plain": [
       "[1.0, 0.3784046692607004]"
      ]
     },
     "execution_count": 25,
     "metadata": {},
     "output_type": "execute_result"
    }
   ],
   "source": [
    "pp_obj = ColumnTransformer(\n",
    "    transformers=[\n",
    "        (\"cat_cols\", OneHotEncoder(), [\"job\", \"marital\", \"education\", \"default\", \"housing\", \"loan\", \"contact\", \"day\", \"month\", \"poutcome\"]),\n",
    "        (\"quant_cols\", StandardScaler(), [\"age\", \"balance\", \"duration\", \"campaign\", \"pdays\", \"previous\"])\n",
    "    ],\n",
    "    remainder = \"passthrough\"\n",
    ")\n",
    "\n",
    "pl_obj = Pipeline([\n",
    "    (\"preprocessor\", pp_obj),\n",
    "    (\"classifier\", RandomForestClassifier())\n",
    "])\n",
    "\n",
    "y_train_binary = y_train.apply(to_binary)\n",
    "pl_obj.fit(X_train, y_train_binary)\n",
    "\n",
    "train_recall_4 = recall_score(y_train_binary, pl_obj.predict(X_train))\n",
    "y_test_binary = y_test.apply(to_binary)\n",
    "test_recall_4 = recall_score(y_test_binary, pl_obj.predict(X_test))\n",
    "[train_recall_4, test_recall_4]\n",
    "# In datasets with imbalanced class distributions, Random Forests may be biased toward the majority class (the negative one in our case), impacting the predictive performance for minority classes (the positive one)."
   ]
  },
  {
   "cell_type": "code",
   "execution_count": 26,
   "id": "e9b50bbf-36fd-4494-b858-66d6cca86eef",
   "metadata": {},
   "outputs": [
    {
     "data": {
      "text/plain": [
       "[0.7033560197136822, 0.5]"
      ]
     },
     "execution_count": 26,
     "metadata": {},
     "output_type": "execute_result"
    }
   ],
   "source": [
    "pp_obj = ColumnTransformer(\n",
    "    transformers=[\n",
    "        (\"cat_cols\", OneHotEncoder(), [\"job\", \"marital\", \"education\", \"default\", \"housing\", \"loan\", \"contact\", \"day\", \"month\", \"poutcome\"]),\n",
    "        (\"quant_cols\", StandardScaler(), [\"age\", \"balance\", \"duration\", \"campaign\", \"pdays\", \"previous\"])\n",
    "    ],\n",
    "    remainder = \"passthrough\"\n",
    ")\n",
    "\n",
    "pl_obj = Pipeline([\n",
    "    (\"preprocessor\", pp_obj),\n",
    "    (\"classifier\", XGBClassifier())\n",
    "])\n",
    "\n",
    "y_train_binary = y_train.apply(to_binary)\n",
    "pl_obj.fit(X_train, y_train_binary)\n",
    "\n",
    "train_recall_5 = recall_score(y_train_binary, pl_obj.predict(X_train))\n",
    "y_test_binary = y_test.apply(to_binary)\n",
    "test_recall_5 = recall_score(y_test_binary, pl_obj.predict(X_test))\n",
    "[train_recall_5, test_recall_5]"
   ]
  },
  {
   "cell_type": "code",
   "execution_count": 32,
   "id": "a80e2b7e-4b16-4fee-8ffe-a14bc6336fe7",
   "metadata": {},
   "outputs": [
    {
     "data": {
      "text/html": [
       "<div>\n",
       "<style scoped>\n",
       "    .dataframe tbody tr th:only-of-type {\n",
       "        vertical-align: middle;\n",
       "    }\n",
       "\n",
       "    .dataframe tbody tr th {\n",
       "        vertical-align: top;\n",
       "    }\n",
       "\n",
       "    .dataframe thead th {\n",
       "        text-align: right;\n",
       "    }\n",
       "</style>\n",
       "<table border=\"1\" class=\"dataframe\">\n",
       "  <thead>\n",
       "    <tr style=\"text-align: right;\">\n",
       "      <th></th>\n",
       "      <th>Training Recall</th>\n",
       "      <th>Testing Recall</th>\n",
       "    </tr>\n",
       "  </thead>\n",
       "  <tbody>\n",
       "    <tr>\n",
       "      <th>Logistic Regression</th>\n",
       "      <td>0.366581</td>\n",
       "      <td>0.339494</td>\n",
       "    </tr>\n",
       "    <tr>\n",
       "      <th>K-Nearest Neighbors</th>\n",
       "      <td>0.490026</td>\n",
       "      <td>0.343385</td>\n",
       "    </tr>\n",
       "    <tr>\n",
       "      <th>Decision Tree</th>\n",
       "      <td>1.000000</td>\n",
       "      <td>0.480545</td>\n",
       "    </tr>\n",
       "    <tr>\n",
       "      <th>Random Forest</th>\n",
       "      <td>1.000000</td>\n",
       "      <td>0.378405</td>\n",
       "    </tr>\n",
       "    <tr>\n",
       "      <th>XGBoost</th>\n",
       "      <td>0.703356</td>\n",
       "      <td>0.500000</td>\n",
       "    </tr>\n",
       "  </tbody>\n",
       "</table>\n",
       "</div>"
      ],
      "text/plain": [
       "                     Training Recall  Testing Recall\n",
       "Logistic Regression         0.366581        0.339494\n",
       "K-Nearest Neighbors         0.490026        0.343385\n",
       "Decision Tree               1.000000        0.480545\n",
       "Random Forest               1.000000        0.378405\n",
       "XGBoost                     0.703356        0.500000"
      ]
     },
     "execution_count": 32,
     "metadata": {},
     "output_type": "execute_result"
    }
   ],
   "source": [
    "recalls_df = pd.DataFrame(np.array([[train_recall_1, test_recall_1],\n",
    "                                    [train_recall_2, test_recall_2],\n",
    "                                    [train_recall_3, test_recall_3],\n",
    "                                    [train_recall_4, test_recall_4],\n",
    "                                    [train_recall_5, test_recall_5]]),\n",
    "                          columns=[\"Training Recall\", \"Testing Recall\"],\n",
    "                          index=[\"Logistic Regression\",\n",
    "                                 \"K-Nearest Neighbors\",\n",
    "                                 \"Decision Tree\",\n",
    "                                 \"Random Forest\",\n",
    "                                 \"XGBoost\"])\n",
    "recalls_df"
   ]
  },
  {
   "cell_type": "code",
   "execution_count": 30,
   "id": "3fdef49b-56e4-4795-802b-464a682e0e75",
   "metadata": {},
   "outputs": [
    {
     "data": {
      "text/html": [
       "<div>\n",
       "<style scoped>\n",
       "    .dataframe tbody tr th:only-of-type {\n",
       "        vertical-align: middle;\n",
       "    }\n",
       "\n",
       "    .dataframe tbody tr th {\n",
       "        vertical-align: top;\n",
       "    }\n",
       "\n",
       "    .dataframe thead th {\n",
       "        text-align: right;\n",
       "    }\n",
       "</style>\n",
       "<table border=\"1\" class=\"dataframe\">\n",
       "  <thead>\n",
       "    <tr style=\"text-align: right;\">\n",
       "      <th></th>\n",
       "      <th>training recall</th>\n",
       "      <th>testing recall</th>\n",
       "    </tr>\n",
       "  </thead>\n",
       "  <tbody>\n",
       "    <tr>\n",
       "      <th>Logarithmic Regression</th>\n",
       "      <td>0.366581</td>\n",
       "      <td>0.339494</td>\n",
       "    </tr>\n",
       "    <tr>\n",
       "      <th>K-Nearest Neighbors</th>\n",
       "      <td>0.490026</td>\n",
       "      <td>0.343385</td>\n",
       "    </tr>\n",
       "    <tr>\n",
       "      <th>Decision Tree</th>\n",
       "      <td>1.000000</td>\n",
       "      <td>0.480545</td>\n",
       "    </tr>\n",
       "    <tr>\n",
       "      <th>Random Forest</th>\n",
       "      <td>1.000000</td>\n",
       "      <td>0.378405</td>\n",
       "    </tr>\n",
       "    <tr>\n",
       "      <th>XGBoost</th>\n",
       "      <td>0.703356</td>\n",
       "      <td>0.500000</td>\n",
       "    </tr>\n",
       "  </tbody>\n",
       "</table>\n",
       "</div>"
      ],
      "text/plain": [
       "                        training recall  testing recall\n",
       "Logarithmic Regression         0.366581        0.339494\n",
       "K-Nearest Neighbors            0.490026        0.343385\n",
       "Decision Tree                  1.000000        0.480545\n",
       "Random Forest                  1.000000        0.378405\n",
       "XGBoost                        0.703356        0.500000"
      ]
     },
     "execution_count": 30,
     "metadata": {},
     "output_type": "execute_result"
    }
   ],
   "source": [
    "recalls_df = pd.DataFrame(np.array([[train_recall_1, test_recall_1],\n",
    "                                    [train_recall_2, test_recall_2],\n",
    "                                    [train_recall_3, test_recall_3],\n",
    "                                    [train_recall_4, test_recall_4],\n",
    "                                    [train_recall_5, test_recall_5]]),\n",
    "                          columns=[\"training recall\", \"testing recall\"],\n",
    "                          index=[\"Logarithmic Regression\",\n",
    "                                 \"K-Nearest Neighbors\",\n",
    "                                 \"Decision Tree\",\n",
    "                                 \"Random Forest\",\n",
    "                                 \"XGBoost\"])\n",
    "recalls_df"
   ]
  },
  {
   "cell_type": "code",
   "execution_count": 10,
   "id": "4d932b70-d00e-40cc-8ca5-a5c5fe8a200b",
   "metadata": {},
   "outputs": [],
   "source": [
    "# the above are baselines\n",
    "# the below are model options"
   ]
  },
  {
   "cell_type": "code",
   "execution_count": 62,
   "id": "123b00cc-0106-4cd9-adde-dae728b67c3d",
   "metadata": {},
   "outputs": [
    {
     "data": {
      "text/plain": [
       "[0.7033560197136822, 0.5]"
      ]
     },
     "execution_count": 62,
     "metadata": {},
     "output_type": "execute_result"
    }
   ],
   "source": [
    "pp_obj = ColumnTransformer(\n",
    "    transformers=[\n",
    "        (\"cat_cols\", OneHotEncoder(), [\"job\", \"marital\", \"education\", \"default\", \"housing\", \"loan\", \"contact\", \"day\", \"month\", \"poutcome\"]),\n",
    "        (\"quant_cols\", StandardScaler(), [\"age\", \"balance\", \"duration\", \"campaign\", \"pdays\", \"previous\"])\n",
    "    ],\n",
    "    remainder = \"passthrough\"\n",
    ")\n",
    "\n",
    "pl_obj = Pipeline([\n",
    "    (\"preprocessor\", pp_obj),\n",
    "    (\"classifier\", XGBClassifier(max_depth = 6))\n",
    "])\n",
    "\n",
    "y_train_binary = y_train.apply(to_binary)\n",
    "pl_obj.fit(X_train, y_train_binary)\n",
    "\n",
    "train_recall_5 = recall_score(y_train_binary, pl_obj.predict(X_train))\n",
    "y_test_binary = y_test.apply(to_binary)\n",
    "test_recall_5 = recall_score(y_test_binary, pl_obj.predict(X_test))\n",
    "[train_recall_5, test_recall_5] # sps=8: 0.8132, "
   ]
  },
  {
   "cell_type": "code",
   "execution_count": 80,
   "id": "e7b3ee06-d0c4-4473-a91e-7178d67e64c0",
   "metadata": {},
   "outputs": [
    {
     "data": {
      "text/plain": [
       "[0.9767660173668153, 0.8132295719844358]"
      ]
     },
     "execution_count": 80,
     "metadata": {},
     "output_type": "execute_result"
    }
   ],
   "source": [
    "pp_obj = ColumnTransformer(\n",
    "    transformers=[\n",
    "        (\"cat_cols\", OneHotEncoder(), [\"job\", \"marital\", \"education\", \"default\", \"housing\", \"loan\", \"contact\", \"day\", \"month\", \"poutcome\"]),\n",
    "        (\"quant_cols\", StandardScaler(), [\"age\", \"balance\", \"duration\", \"campaign\", \"pdays\", \"previous\"])\n",
    "    ],\n",
    "    remainder = \"passthrough\"\n",
    ")\n",
    "\n",
    "pl_obj = Pipeline([\n",
    "    (\"preprocessor\", pp_obj),\n",
    "    (\"classifier\", XGBClassifier())\n",
    "])\n",
    "\n",
    "hp_dict = {\n",
    "    \"classifier__scale_pos_weight\": [8, 9, 10],\n",
    "    \"classifier__max_depth\": [4, 5, 6]\n",
    "}\n",
    "\n",
    "gscv_obj = GridSearchCV(pl_obj, hp_dict, cv=5)\n",
    "\n",
    "def to_binary(val):\n",
    "    if val == \"yes\":\n",
    "        return 1\n",
    "    return 0\n",
    "\n",
    "y_train_binary = y_train.apply(to_binary)\n",
    "gscv_obj.fit(X_train, y_train_binary)\n",
    "\n",
    "train_recall = recall_score(y_train_binary, gscv_obj.predict(X_train))\n",
    "y_test_binary = y_test.apply(to_binary)\n",
    "test_recall = recall_score(y_test_binary, gscv_obj.predict(X_test))\n",
    "[train_recall, test_recall]"
   ]
  },
  {
   "cell_type": "code",
   "execution_count": 81,
   "id": "615aa5d3-9a70-4040-a9d6-6b9a1aba6a08",
   "metadata": {},
   "outputs": [
    {
     "data": {
      "text/plain": [
       "{'classifier__max_depth': 6, 'classifier__scale_pos_weight': 8}"
      ]
     },
     "execution_count": 81,
     "metadata": {},
     "output_type": "execute_result"
    }
   ],
   "source": [
    "gscv_obj.best_params_"
   ]
  },
  {
   "cell_type": "code",
   "execution_count": 14,
   "id": "ebdde676-f40b-475a-bd0e-6b07c03394a1",
   "metadata": {},
   "outputs": [],
   "source": [
    "# [0.7177650429799427, 0.4904632152588556]\n",
    "# [0.983046800382044, 0.7965485921889192]\n",
    "# [0.9756446991404012, 0.8201634877384196]"
   ]
  },
  {
   "cell_type": "code",
   "execution_count": null,
   "id": "5df3155d-46ca-4510-9151-facedb9f684c",
   "metadata": {},
   "outputs": [],
   "source": [
    "    \"classifier__eta\": [0.1],\n",
    "    \"classifier__gamma\": [0.5],\n",
    "    \"classifier__max_depth\": [10],\n",
    "    \"classifier__subsample\": [0.5],"
   ]
  },
  {
   "cell_type": "code",
   "execution_count": null,
   "id": "80fd6c7a-5b52-4a63-a8f0-12b220acdb6a",
   "metadata": {},
   "outputs": [],
   "source": []
  },
  {
   "cell_type": "code",
   "execution_count": null,
   "id": "e3e67535-f84f-4b95-8d44-1f9472103dcc",
   "metadata": {},
   "outputs": [],
   "source": []
  },
  {
   "cell_type": "code",
   "execution_count": null,
   "id": "22fe6254-8787-4e34-80dc-5b508175690e",
   "metadata": {},
   "outputs": [],
   "source": []
  },
  {
   "cell_type": "code",
   "execution_count": null,
   "id": "42345f2d-01ac-4e90-896c-eddd9d8846ba",
   "metadata": {},
   "outputs": [],
   "source": []
  },
  {
   "cell_type": "code",
   "execution_count": 76,
   "id": "62dfcc95-810a-4bdb-8421-22dcdaa88a8d",
   "metadata": {},
   "outputs": [
    {
     "data": {
      "text/plain": [
       "[0.7498813478879924, 0.5060465116279069]"
      ]
     },
     "execution_count": 76,
     "metadata": {},
     "output_type": "execute_result"
    }
   ],
   "source": [
    "pp_obj = ColumnTransformer(\n",
    "    transformers=[\n",
    "        (\"cat_cols\", OneHotEncoder(), [\"job\", \"marital\", \"education\", \"default\", \"housing\", \"loan\", \"contact\", \"day\", \"month\", \"poutcome\"]),\n",
    "    ],\n",
    "    remainder = \"passthrough\"\n",
    ")\n",
    "\n",
    "pl_obj = Pipeline([\n",
    "    (\"preprocessor\", pp_obj),\n",
    "    (\"classifier\", DecisionTreeClassifier())\n",
    "])\n",
    "\n",
    "hp_dict = {\n",
    "    \"classifier__max_depth\": [15],\n",
    "}\n",
    "\n",
    "gscv_obj = GridSearchCV(pl_obj, hp_dict, cv=5)\n",
    "\n",
    "def to_binary(val):\n",
    "    if val == \"yes\":\n",
    "        return 1\n",
    "    return 0\n",
    "\n",
    "y_train_binary = y_train.apply(to_binary)\n",
    "gscv_obj.fit(X_train, y_train_binary)\n",
    "\n",
    "train_recall = recall_score(y_train_binary, gscv_obj.predict(X_train))\n",
    "y_test_binary = y_test.apply(to_binary)\n",
    "test_recall = recall_score(y_test_binary, gscv_obj.predict(X_test))\n",
    "[train_recall, test_recall]"
   ]
  },
  {
   "cell_type": "code",
   "execution_count": 77,
   "id": "c7dbf1a5-8606-48ee-b30f-24fe1def3999",
   "metadata": {},
   "outputs": [
    {
     "data": {
      "text/plain": [
       "{'classifier__max_depth': 15}"
      ]
     },
     "execution_count": 77,
     "metadata": {},
     "output_type": "execute_result"
    }
   ],
   "source": [
    "gscv_obj.best_params_"
   ]
  },
  {
   "cell_type": "code",
   "execution_count": null,
   "id": "7acb394c-be41-406c-be48-e8eb9b81afc6",
   "metadata": {},
   "outputs": [],
   "source": []
  }
 ],
 "metadata": {
  "kernelspec": {
   "display_name": "Python 3 (ipykernel)",
   "language": "python",
   "name": "python3"
  },
  "language_info": {
   "codemirror_mode": {
    "name": "ipython",
    "version": 3
   },
   "file_extension": ".py",
   "mimetype": "text/x-python",
   "name": "python",
   "nbconvert_exporter": "python",
   "pygments_lexer": "ipython3",
   "version": "3.11.5"
  }
 },
 "nbformat": 4,
 "nbformat_minor": 5
}
